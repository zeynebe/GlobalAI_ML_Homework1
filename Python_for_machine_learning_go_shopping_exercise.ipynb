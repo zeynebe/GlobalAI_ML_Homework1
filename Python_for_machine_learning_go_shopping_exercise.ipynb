{
  "cells": [
    {
      "cell_type": "markdown",
      "metadata": {
        "id": "view-in-github",
        "colab_type": "text"
      },
      "source": [
        "<a href=\"https://colab.research.google.com/github/zeynebe/GlobalAI_ML_Homework1/blob/main/Python_for_machine_learning_go_shopping_exercise.ipynb\" target=\"_parent\"><img src=\"https://colab.research.google.com/assets/colab-badge.svg\" alt=\"Open In Colab\"/></a>"
      ]
    },
    {
      "cell_type": "code",
      "source": [
        "item_list = [\"laptop\", \"headset\", \"second monitor\", \"mouse pad\", \"usb drive\", \"external drive\"]"
      ],
      "metadata": {
        "id": "ooiCrRZrWw_T"
      },
      "id": "ooiCrRZrWw_T",
      "execution_count": 1,
      "outputs": []
    },
    {
      "cell_type": "code",
      "source": [
        ""
      ],
      "metadata": {
        "id": "innJat_MWwsU"
      },
      "id": "innJat_MWwsU",
      "execution_count": null,
      "outputs": []
    },
    {
      "cell_type": "code",
      "source": [
        "limit = 5000\n",
        "price_sheet = {\n",
        "    \"laptop\":1500,\n",
        "    \"headset\": 100,\n",
        "    \"second monitor\": 200,\n",
        "    \"mouse pad\":50,\n",
        "    \"usb drive\":70,\n",
        "    \"external drive\":250,\n",
        "}"
      ],
      "metadata": {
        "id": "mqDWUxXUP5QI"
      },
      "id": "mqDWUxXUP5QI",
      "execution_count": 2,
      "outputs": []
    },
    {
      "cell_type": "code",
      "source": [
        "cart = []"
      ],
      "metadata": {
        "id": "9BhY-Wo7Qn1T"
      },
      "id": "9BhY-Wo7Qn1T",
      "execution_count": 3,
      "outputs": []
    },
    {
      "cell_type": "code",
      "source": [
        "def add_to_cart(item, quantity):\n",
        "  cart.append((item, quantity))\n",
        "  item_list.remove(item)"
      ],
      "metadata": {
        "id": "yJ2cX9hAQq6_"
      },
      "id": "yJ2cX9hAQq6_",
      "execution_count": 4,
      "outputs": []
    },
    {
      "cell_type": "code",
      "source": [
        "def create_invoice():\n",
        "  total_amount_inc_tax = 0\n",
        "  for item, quantity in cart:\n",
        "    price = price_sheet[item]\n",
        "    tax = 0.18 * price\n",
        "    total = (tax + price) * quantity\n",
        "    total_amount_inc_tax += total\n",
        "    print(\"Item\", item, \"\\t\", \"Price\", price, \"\\t\", \"Quantity\", quantity, \"\\t\", \"Tax\", tax, \"\\t\", \"Total\", total, \"\\n\")\n",
        "  print(\"After the taxes the total amount is\", \"\\t\", total_amount_inc_tax)\n",
        "\n",
        "  return total_amount_inc_tax"
      ],
      "metadata": {
        "id": "Bz5nIIPaRG5G"
      },
      "id": "Bz5nIIPaRG5G",
      "execution_count": 5,
      "outputs": []
    },
    {
      "cell_type": "code",
      "source": [
        "def checkout():\n",
        "  global limit\n",
        "  total_amount_inc_tax = create_invoice()\n",
        "  if limit == 0:\n",
        "    print(\"para bitti\")\n",
        "  elif total_amount_inc_tax > limit:\n",
        "    print(\"limit yetmiyor. bazı ürünleri çıkar sepetten\")\n",
        "  else:\n",
        "    limit -= total_amount_inc_tax\n",
        "    print(f\"toplam harcaman (tax dahil) {total_amount_inc_tax}. {limit} kadar paran kaldı\")"
      ],
      "metadata": {
        "id": "V2D2JIaSTGkL"
      },
      "id": "V2D2JIaSTGkL",
      "execution_count": 6,
      "outputs": []
    },
    {
      "cell_type": "code",
      "source": [
        "add_to_cart(\"laptop\", 1)\n",
        "add_to_cart(\"headset\", 3)\n",
        "add_to_cart(\"second monitor\", 2)\n",
        "add_to_cart(\"mouse pad\", 2)\n",
        "add_to_cart(\"usb drive\", 1)\n",
        "add_to_cart(\"external drive\", 1)"
      ],
      "metadata": {
        "id": "54UTmGlwUH3n"
      },
      "id": "54UTmGlwUH3n",
      "execution_count": 7,
      "outputs": []
    },
    {
      "cell_type": "code",
      "source": [
        "checkout()"
      ],
      "metadata": {
        "colab": {
          "base_uri": "https://localhost:8080/"
        },
        "id": "WSzOiT4YUHz-",
        "outputId": "c020ebc1-5826-4f23-9966-81617d8e8a18"
      },
      "id": "WSzOiT4YUHz-",
      "execution_count": 8,
      "outputs": [
        {
          "output_type": "stream",
          "name": "stdout",
          "text": [
            "Item laptop \t Price 1500 \t Quantity 1 \t Tax 270.0 \t Total 1770.0 \n",
            "\n",
            "Item headset \t Price 100 \t Quantity 3 \t Tax 18.0 \t Total 354.0 \n",
            "\n",
            "Item second monitor \t Price 200 \t Quantity 2 \t Tax 36.0 \t Total 472.0 \n",
            "\n",
            "Item mouse pad \t Price 50 \t Quantity 2 \t Tax 9.0 \t Total 118.0 \n",
            "\n",
            "Item usb drive \t Price 70 \t Quantity 1 \t Tax 12.6 \t Total 82.6 \n",
            "\n",
            "Item external drive \t Price 250 \t Quantity 1 \t Tax 45.0 \t Total 295.0 \n",
            "\n",
            "After the taxes the total amount is \t 3091.6\n",
            "toplam harcaman (tax dahil) 3091.6. 1908.4 kadar paran kaldı\n"
          ]
        }
      ]
    },
    {
      "cell_type": "code",
      "source": [
        ""
      ],
      "metadata": {
        "id": "qyISiXQPUHar"
      },
      "id": "qyISiXQPUHar",
      "execution_count": null,
      "outputs": []
    },
    {
      "cell_type": "markdown",
      "source": [
        "yeni bir örnek"
      ],
      "metadata": {
        "id": "n4tqXzPfd5A_"
      },
      "id": "n4tqXzPfd5A_"
    },
    {
      "cell_type": "code",
      "source": [
        "username = \"New York\"\n",
        "password = \"2022\"\n",
        "\n",
        "input_username = input(\"Enter a username: \")\n",
        "input_password = input(\"Enter a password: \")\n",
        "\n",
        "if input_username == username and input_password == password:\n",
        "  print(\"oturum açıldı\")\n",
        "elif input_username == username and input_password != password:\n",
        "  print(\"şifre yanlış\")\n",
        "elif input_username != username and input_password == password:\n",
        "  print(\"kullanıcı adı yanlış\")"
      ],
      "metadata": {
        "id": "98C955mLd3GF",
        "outputId": "5f61303f-b920-4376-f05e-353784f25b0e",
        "colab": {
          "base_uri": "https://localhost:8080/"
        }
      },
      "id": "98C955mLd3GF",
      "execution_count": 9,
      "outputs": [
        {
          "output_type": "stream",
          "name": "stdout",
          "text": [
            "Enter a username: New York\n",
            "Enter a password: 2024\n",
            "şifre yanlış\n"
          ]
        }
      ]
    },
    {
      "cell_type": "markdown",
      "source": [
        "başka örnek function için"
      ],
      "metadata": {
        "id": "rKGTyYWTe854"
      },
      "id": "rKGTyYWTe854"
    },
    {
      "cell_type": "code",
      "source": [
        "languages = [\"english\", \"spanish\", \"turkish\", \"italian\", \"chinese\"]\n",
        "\n",
        "def select_language(selection):\n",
        "  if selection in languages:\n",
        "    print(f\"you selected: {selection}.\")\n",
        "  else:\n",
        "    print(f\"{selection} is not available\")\n",
        "\n",
        "selection = input(\"please, select a language: \")\n",
        "select_language(selection)"
      ],
      "metadata": {
        "id": "r7idooCWe_QB",
        "outputId": "f57f7dd4-09a0-43ec-aec9-09ec85a70ba1",
        "colab": {
          "base_uri": "https://localhost:8080/"
        }
      },
      "id": "r7idooCWe_QB",
      "execution_count": 10,
      "outputs": [
        {
          "output_type": "stream",
          "name": "stdout",
          "text": [
            "please, select a language: German\n",
            "German is not available\n"
          ]
        }
      ]
    },
    {
      "cell_type": "markdown",
      "source": [
        "başka bir örnek"
      ],
      "metadata": {
        "id": "rwt-BOnAf1XZ"
      },
      "id": "rwt-BOnAf1XZ"
    },
    {
      "cell_type": "code",
      "source": [
        "X = 27.5\n",
        "\n",
        "if (int(X) == X):\n",
        "  print(f\"{int(X)} is equal to {X}\")\n",
        "else:\n",
        "  print(f\"{int(X)} is not equal to {X}\")"
      ],
      "metadata": {
        "id": "4CMbBkjWf3XF",
        "outputId": "2a93a291-70b9-4b5a-e55e-57389c23dddb",
        "colab": {
          "base_uri": "https://localhost:8080/"
        }
      },
      "id": "4CMbBkjWf3XF",
      "execution_count": 14,
      "outputs": [
        {
          "output_type": "stream",
          "name": "stdout",
          "text": [
            "27 is not equal to 27.5\n"
          ]
        }
      ]
    },
    {
      "cell_type": "markdown",
      "source": [
        "başka bir örnek"
      ],
      "metadata": {
        "id": "9ZwEe-FYgpfk"
      },
      "id": "9ZwEe-FYgpfk"
    },
    {
      "cell_type": "code",
      "source": [
        "name = \"Fatoş\"\n",
        "\n",
        "def func():\n",
        "  global name\n",
        "  name = \"Fatma\"\n",
        "\n",
        "func()\n",
        "print(name)"
      ],
      "metadata": {
        "id": "PyHZX3jcgq54",
        "outputId": "a21a77e3-eb3f-4172-b312-b0062a9d8b44",
        "colab": {
          "base_uri": "https://localhost:8080/"
        }
      },
      "id": "PyHZX3jcgq54",
      "execution_count": 15,
      "outputs": [
        {
          "output_type": "stream",
          "name": "stdout",
          "text": [
            "Fatma\n"
          ]
        }
      ]
    },
    {
      "cell_type": "markdown",
      "source": [
        "dictionary ile başka bir örnek"
      ],
      "metadata": {
        "id": "SdRSrrSJg8ME"
      },
      "id": "SdRSrrSJg8ME"
    },
    {
      "cell_type": "code",
      "source": [
        "person_list = {\n",
        "    \"omer\":25,\n",
        "    \"wins\":34,\n",
        "    \"jane\":28,\n",
        "    \"robin\":47\n",
        "}\n",
        "\n",
        "sum = 0\n",
        "\n",
        "for i in person_list.values():\n",
        "  if i > 28:\n",
        "    sum += i\n",
        "\n",
        "print(sum)"
      ],
      "metadata": {
        "id": "_D4AQCF_g-4s",
        "outputId": "9aa4beb6-ef5d-441a-f982-b5375b8514b1",
        "colab": {
          "base_uri": "https://localhost:8080/"
        }
      },
      "id": "_D4AQCF_g-4s",
      "execution_count": 16,
      "outputs": [
        {
          "output_type": "stream",
          "name": "stdout",
          "text": [
            "81\n"
          ]
        }
      ]
    },
    {
      "cell_type": "markdown",
      "source": [
        "farklı bir örnek"
      ],
      "metadata": {
        "id": "0CGQu5uNhfIc"
      },
      "id": "0CGQu5uNhfIc"
    },
    {
      "cell_type": "code",
      "source": [
        "item_list = [\"laptop\", \"headset\", \"second monitor\", \"mouse pad\", \"usb drive\", \"external drive\"]\n",
        "item_list.append([\"mouse\", \"pencil\", \"pen\"])\n",
        "item_list.remove(\"mouse pad\")\n",
        "item_list[0:3]"
      ],
      "metadata": {
        "id": "0D3XbXSChghM",
        "outputId": "1c4849a1-d576-4545-90f8-40880a08a019",
        "colab": {
          "base_uri": "https://localhost:8080/"
        }
      },
      "id": "0D3XbXSChghM",
      "execution_count": 18,
      "outputs": [
        {
          "output_type": "execute_result",
          "data": {
            "text/plain": [
              "['laptop', 'headset', 'second monitor']"
            ]
          },
          "metadata": {},
          "execution_count": 18
        }
      ]
    },
    {
      "cell_type": "markdown",
      "source": [
        "yeni örnek"
      ],
      "metadata": {
        "id": "0-xIUozFh-Y6"
      },
      "id": "0-xIUozFh-Y6"
    },
    {
      "cell_type": "code",
      "source": [
        "list1=[1,5,7,2,4,12]\n",
        "result_list =[]\n",
        "\n",
        "def lets_add():\n",
        "  for i in list1:\n",
        "    if i%2 ==0:\n",
        "      result_list.append(i)\n",
        "\n",
        "lets_add()\n",
        "print(result_list)"
      ],
      "metadata": {
        "id": "PpdRaXTDh_nA",
        "outputId": "229fbfa8-d3f0-4d27-ff72-259b1186bf02",
        "colab": {
          "base_uri": "https://localhost:8080/"
        }
      },
      "id": "PpdRaXTDh_nA",
      "execution_count": 19,
      "outputs": [
        {
          "output_type": "stream",
          "name": "stdout",
          "text": [
            "[2, 4, 12]\n"
          ]
        }
      ]
    }
  ],
  "metadata": {
    "kernelspec": {
      "display_name": "Python 3 (ipykernel)",
      "language": "python",
      "name": "python3"
    },
    "language_info": {
      "codemirror_mode": {
        "name": "ipython",
        "version": 3
      },
      "file_extension": ".py",
      "mimetype": "text/x-python",
      "name": "python",
      "nbconvert_exporter": "python",
      "pygments_lexer": "ipython3",
      "version": "3.9.12"
    },
    "colab": {
      "name": "Python_for_machine_learning_go_shopping_exercise.ipynb",
      "provenance": [],
      "toc_visible": true,
      "include_colab_link": true
    }
  },
  "nbformat": 4,
  "nbformat_minor": 5
}