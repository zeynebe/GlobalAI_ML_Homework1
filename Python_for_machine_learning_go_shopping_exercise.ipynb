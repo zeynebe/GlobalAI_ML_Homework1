{
  "cells": [
    {
      "cell_type": "markdown",
      "metadata": {
        "id": "view-in-github",
        "colab_type": "text"
      },
      "source": [
        "<a href=\"https://colab.research.google.com/github/zeynebe/GlobalAI_ML_Homework1/blob/main/Python_for_machine_learning_go_shopping_exercise.ipynb\" target=\"_parent\"><img src=\"https://colab.research.google.com/assets/colab-badge.svg\" alt=\"Open In Colab\"/></a>"
      ]
    },
    {
      "cell_type": "code",
      "source": [
        "item_list = [\"laptop\", \"headset\", \"second monitor\", \"mouse pad\", \"usb drive\", \"external drive\"]"
      ],
      "metadata": {
        "id": "ooiCrRZrWw_T"
      },
      "id": "ooiCrRZrWw_T",
      "execution_count": 24,
      "outputs": []
    },
    {
      "cell_type": "code",
      "source": [
        ""
      ],
      "metadata": {
        "id": "innJat_MWwsU"
      },
      "id": "innJat_MWwsU",
      "execution_count": null,
      "outputs": []
    },
    {
      "cell_type": "code",
      "source": [
        "limit = 5000\n",
        "price_sheet = {\n",
        "    \"laptop\":1500,\n",
        "    \"headset\": 100,\n",
        "    \"second monitor\": 200,\n",
        "    \"mouse pad\":50,\n",
        "    \"usb drive\":70,\n",
        "    \"external drive\":250,\n",
        "}"
      ],
      "metadata": {
        "id": "mqDWUxXUP5QI"
      },
      "id": "mqDWUxXUP5QI",
      "execution_count": 25,
      "outputs": []
    },
    {
      "cell_type": "code",
      "source": [
        "cart = []"
      ],
      "metadata": {
        "id": "9BhY-Wo7Qn1T"
      },
      "id": "9BhY-Wo7Qn1T",
      "execution_count": 26,
      "outputs": []
    },
    {
      "cell_type": "code",
      "source": [
        "def add_to_cart(item, quantity):\n",
        "  cart.append((item, quantity))\n",
        "  item_list.remove(item)"
      ],
      "metadata": {
        "id": "yJ2cX9hAQq6_"
      },
      "id": "yJ2cX9hAQq6_",
      "execution_count": 27,
      "outputs": []
    },
    {
      "cell_type": "code",
      "source": [
        "def create_invoice():\n",
        "  total_amount_inc_tax = 0\n",
        "  for item, quantity in cart:\n",
        "    price = price_sheet[item]\n",
        "    tax = 0.25 * price\n",
        "    total = (tax + price) * quantity\n",
        "    total_amount_inc_tax += total\n",
        "    print(\"Item\", item, \"\\t\", \"Price\", price, \"\\t\", \"Quantity\", quantity, \"\\t\", \"Tax\", tax, \"\\t\", \"Total\", total, \"\\n\")\n",
        "  print(\"After the taxes the total amount is\", \"\\t\", total_amount_inc_tax)\n",
        "\n",
        "  return total_amount_inc_tax"
      ],
      "metadata": {
        "id": "Bz5nIIPaRG5G"
      },
      "id": "Bz5nIIPaRG5G",
      "execution_count": 28,
      "outputs": []
    },
    {
      "cell_type": "code",
      "source": [
        "def checkout():\n",
        "  global limit\n",
        "  total_amount_inc_tax = create_invoice()\n",
        "  if limit == 0:\n",
        "    print(\"para bitti\")\n",
        "  elif total_amount_inc_tax > limit:\n",
        "    print(\"limit yetmiyor. bazı ürünleri çıkar sepetten\")\n",
        "  else:\n",
        "    limit -= total_amount_inc_tax\n",
        "    print(f\"toplam harcaman (tax dahil) {total_amount_inc_tax}. {limit} kadar paran kaldı\")"
      ],
      "metadata": {
        "id": "V2D2JIaSTGkL"
      },
      "id": "V2D2JIaSTGkL",
      "execution_count": 29,
      "outputs": []
    },
    {
      "cell_type": "code",
      "source": [
        "add_to_cart(\"laptop\", 1)\n",
        "add_to_cart(\"headset\", 8)\n",
        "add_to_cart(\"second monitor\", 1)\n",
        "add_to_cart(\"mouse pad\", 1)\n",
        "add_to_cart(\"usb drive\", 2)\n",
        "add_to_cart(\"external drive\", 4)"
      ],
      "metadata": {
        "id": "54UTmGlwUH3n"
      },
      "id": "54UTmGlwUH3n",
      "execution_count": 30,
      "outputs": []
    },
    {
      "cell_type": "code",
      "source": [
        "checkout()"
      ],
      "metadata": {
        "colab": {
          "base_uri": "https://localhost:8080/"
        },
        "id": "WSzOiT4YUHz-",
        "outputId": "7b006afb-f00a-4cb5-c7c9-c2b19d77244f"
      },
      "id": "WSzOiT4YUHz-",
      "execution_count": 31,
      "outputs": [
        {
          "output_type": "stream",
          "name": "stdout",
          "text": [
            "Item laptop \t Price 1500 \t Quantity 1 \t Tax 375.0 \t Total 1875.0 \n",
            "\n",
            "Item headset \t Price 100 \t Quantity 8 \t Tax 25.0 \t Total 1000.0 \n",
            "\n",
            "Item second monitor \t Price 200 \t Quantity 1 \t Tax 50.0 \t Total 250.0 \n",
            "\n",
            "Item mouse pad \t Price 50 \t Quantity 1 \t Tax 12.5 \t Total 62.5 \n",
            "\n",
            "Item usb drive \t Price 70 \t Quantity 2 \t Tax 17.5 \t Total 175.0 \n",
            "\n",
            "Item external drive \t Price 250 \t Quantity 4 \t Tax 62.5 \t Total 1250.0 \n",
            "\n",
            "After the taxes the total amount is \t 4612.5\n",
            "toplam harcaman (tax dahil) 4612.5. 387.5 kadar paran kaldı\n"
          ]
        }
      ]
    },
    {
      "cell_type": "code",
      "source": [
        ""
      ],
      "metadata": {
        "id": "qyISiXQPUHar"
      },
      "id": "qyISiXQPUHar",
      "execution_count": null,
      "outputs": []
    }
  ],
  "metadata": {
    "kernelspec": {
      "display_name": "Python 3 (ipykernel)",
      "language": "python",
      "name": "python3"
    },
    "language_info": {
      "codemirror_mode": {
        "name": "ipython",
        "version": 3
      },
      "file_extension": ".py",
      "mimetype": "text/x-python",
      "name": "python",
      "nbconvert_exporter": "python",
      "pygments_lexer": "ipython3",
      "version": "3.9.12"
    },
    "colab": {
      "name": "Python_for_machine_learning_go_shopping_exercise.ipynb",
      "provenance": [],
      "toc_visible": true,
      "include_colab_link": true
    }
  },
  "nbformat": 4,
  "nbformat_minor": 5
}